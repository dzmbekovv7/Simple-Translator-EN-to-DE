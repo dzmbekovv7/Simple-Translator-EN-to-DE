{
 "cells": [
  {
   "cell_type": "code",
   "execution_count": 2,
   "id": "d9fad931-ec54-4db3-b8ac-63693a0276ba",
   "metadata": {},
   "outputs": [
    {
     "data": {
      "text/plain": [
       "True"
      ]
     },
     "execution_count": 2,
     "metadata": {},
     "output_type": "execute_result"
    }
   ],
   "source": [
    "import gradio as gr\n",
    "from transformers import pipeline\n",
    "from dotenv import load_dotenv\n",
    "import os\n",
    "import psycopg2\n",
    "\n",
    "load_dotenv()  \n"
   ]
  },
  {
   "cell_type": "code",
   "execution_count": 4,
   "id": "75063639-22a8-43ac-ab37-c7aa066ab55f",
   "metadata": {},
   "outputs": [],
   "source": [
    "\n",
    "conn = psycopg2.connect(\n",
    "    host=os.getenv(\"DB_HOST\", \"localhost\"),\n",
    "    database=os.getenv(\"DB_NAME\"),\n",
    "    user=os.getenv(\"DB_USER\"),\n",
    "    password=os.getenv(\"DB_PASSWORD\")\n",
    ")"
   ]
  },
  {
   "cell_type": "code",
   "execution_count": 5,
   "id": "fe9c8899-38af-4b42-a060-9d7bce71c398",
   "metadata": {},
   "outputs": [
    {
     "name": "stderr",
     "output_type": "stream",
     "text": [
      "Device set to use cpu\n"
     ]
    },
    {
     "data": {
      "text/plain": [
       "'Ich liebe dich'"
      ]
     },
     "execution_count": 5,
     "metadata": {},
     "output_type": "execute_result"
    }
   ],
   "source": [
    "translation_pipeline = pipeline(\"translation_en_to_de\", model=\"Helsinki-NLP/opus-mt-en-de\")\n",
    "results = translation_pipeline(\"I love you\")\n",
    "results[0]['translation_text']"
   ]
  },
  {
   "cell_type": "code",
   "execution_count": 10,
   "id": "2036a267-600e-4df6-8c2b-2788d9bfce77",
   "metadata": {},
   "outputs": [],
   "source": [
    "def translate_transformers(from_text):\n",
    "    results = translation_pipeline(from_text)\n",
    "    translated_text = results[0]['translation_text']\n",
    "\n",
    "    with conn.cursor() as cursor:\n",
    "        cursor.execute(\n",
    "            \"INSERT INTO translation_history (original_text, translated_text) VALUES (%s, %s)\",\n",
    "            (from_text, translated_text)\n",
    "        )\n",
    "    conn.commit()\n",
    "\n",
    "    return translated_text\n"
   ]
  },
  {
   "cell_type": "code",
   "execution_count": 11,
   "id": "bf1e4ab3-47fb-42b8-8aa0-d0ce1d3fe321",
   "metadata": {},
   "outputs": [
    {
     "data": {
      "text/plain": [
       "'Ich liebe Aziret'"
      ]
     },
     "execution_count": 11,
     "metadata": {},
     "output_type": "execute_result"
    }
   ],
   "source": [
    "translate_transformers(\"I love Aziret\")"
   ]
  },
  {
   "cell_type": "code",
   "execution_count": 12,
   "id": "405b4b1d-6e6a-4c06-b264-1e1cbc03b3b6",
   "metadata": {},
   "outputs": [],
   "source": [
    "interface = gr.Interface(fn=translate_transformers, inputs=gr.Textbox(lines=2, placeholder=\"Text to translate\"), \n",
    "                         outputs=\"text\")"
   ]
  },
  {
   "cell_type": "code",
   "execution_count": 13,
   "id": "aa99ba10-3c8e-464e-ac44-d879ffb63bc4",
   "metadata": {},
   "outputs": [
    {
     "name": "stdout",
     "output_type": "stream",
     "text": [
      "* Running on local URL:  http://127.0.0.1:7861\n",
      "* To create a public link, set `share=True` in `launch()`.\n"
     ]
    },
    {
     "data": {
      "text/html": [
       "<div><iframe src=\"http://127.0.0.1:7861/\" width=\"100%\" height=\"500\" allow=\"autoplay; camera; microphone; clipboard-read; clipboard-write;\" frameborder=\"0\" allowfullscreen></iframe></div>"
      ],
      "text/plain": [
       "<IPython.core.display.HTML object>"
      ]
     },
     "metadata": {},
     "output_type": "display_data"
    },
    {
     "data": {
      "text/plain": []
     },
     "execution_count": 13,
     "metadata": {},
     "output_type": "execute_result"
    }
   ],
   "source": [
    "interface.launch()"
   ]
  },
  {
   "cell_type": "code",
   "execution_count": null,
   "id": "acf52da8-3d95-4bb2-ad44-3e9996a19885",
   "metadata": {},
   "outputs": [],
   "source": []
  }
 ],
 "metadata": {
  "kernelspec": {
   "display_name": "Python 3 (ipykernel)",
   "language": "python",
   "name": "python3"
  },
  "language_info": {
   "codemirror_mode": {
    "name": "ipython",
    "version": 3
   },
   "file_extension": ".py",
   "mimetype": "text/x-python",
   "name": "python",
   "nbconvert_exporter": "python",
   "pygments_lexer": "ipython3",
   "version": "3.11.0"
  }
 },
 "nbformat": 4,
 "nbformat_minor": 5
}
