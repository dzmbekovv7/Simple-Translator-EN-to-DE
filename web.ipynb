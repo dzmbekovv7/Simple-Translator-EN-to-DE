{
 "cells": [
  {
   "cell_type": "code",
   "execution_count": 1,
   "id": "d9fad931-ec54-4db3-b8ac-63693a0276ba",
   "metadata": {},
   "outputs": [],
   "source": [
    "import gradio as gr\n",
    "from transformers import pipeline\n",
    "\n"
   ]
  },
  {
   "cell_type": "code",
   "execution_count": 2,
   "id": "fe9c8899-38af-4b42-a060-9d7bce71c398",
   "metadata": {},
   "outputs": [
    {
     "data": {
      "application/vnd.jupyter.widget-view+json": {
       "model_id": "8f1149bc9b7844f8ab9dec9e0d00dd31",
       "version_major": 2,
       "version_minor": 0
      },
      "text/plain": [
       "source.spm:   0%|          | 0.00/768k [00:00<?, ?B/s]"
      ]
     },
     "metadata": {},
     "output_type": "display_data"
    },
    {
     "data": {
      "application/vnd.jupyter.widget-view+json": {
       "model_id": "cf94dced884442758bcbe664b56c3c6c",
       "version_major": 2,
       "version_minor": 0
      },
      "text/plain": [
       "target.spm:   0%|          | 0.00/797k [00:00<?, ?B/s]"
      ]
     },
     "metadata": {},
     "output_type": "display_data"
    },
    {
     "data": {
      "application/vnd.jupyter.widget-view+json": {
       "model_id": "5058a3adcd5b4a7a9b523b560291ab8c",
       "version_major": 2,
       "version_minor": 0
      },
      "text/plain": [
       "vocab.json: 0.00B [00:00, ?B/s]"
      ]
     },
     "metadata": {},
     "output_type": "display_data"
    },
    {
     "name": "stderr",
     "output_type": "stream",
     "text": [
      "C:\\Users\\User\\Desktop\\IT\\ML+AI\\Language Translater App\\venv\\Lib\\site-packages\\transformers\\models\\marian\\tokenization_marian.py:175: UserWarning: Recommended: pip install sacremoses.\n",
      "  warnings.warn(\"Recommended: pip install sacremoses.\")\n",
      "Device set to use cpu\n"
     ]
    },
    {
     "data": {
      "text/plain": [
       "'Ich liebe dich'"
      ]
     },
     "execution_count": 2,
     "metadata": {},
     "output_type": "execute_result"
    }
   ],
   "source": [
    "translation_pipeline = pipeline(\"translation_en_to_de\", model=\"Helsinki-NLP/opus-mt-en-de\")\n",
    "results = translation_pipeline(\"I love you\")\n",
    "results[0]['translation_text']"
   ]
  },
  {
   "cell_type": "code",
   "execution_count": 3,
   "id": "2036a267-600e-4df6-8c2b-2788d9bfce77",
   "metadata": {},
   "outputs": [],
   "source": [
    "def translate_transformers(from_text):\n",
    "    results = translation_pipeline(from_text)\n",
    "    return results[0]['translation_text']"
   ]
  },
  {
   "cell_type": "code",
   "execution_count": 4,
   "id": "bf1e4ab3-47fb-42b8-8aa0-d0ce1d3fe321",
   "metadata": {},
   "outputs": [
    {
     "data": {
      "text/plain": [
       "'Ich liebe Aziret'"
      ]
     },
     "execution_count": 4,
     "metadata": {},
     "output_type": "execute_result"
    }
   ],
   "source": [
    "translate_transformers(\"I love Aziret\")"
   ]
  },
  {
   "cell_type": "code",
   "execution_count": 5,
   "id": "405b4b1d-6e6a-4c06-b264-1e1cbc03b3b6",
   "metadata": {},
   "outputs": [],
   "source": [
    "interface = gr.Interface(fn=translate_transformers, inputs=gr.Textbox(lines=2, placeholder=\"Text to translate\"), \n",
    "                         outputs=\"text\")"
   ]
  },
  {
   "cell_type": "code",
   "execution_count": 6,
   "id": "aa99ba10-3c8e-464e-ac44-d879ffb63bc4",
   "metadata": {},
   "outputs": [
    {
     "name": "stdout",
     "output_type": "stream",
     "text": [
      "* Running on local URL:  http://127.0.0.1:7860\n",
      "* To create a public link, set `share=True` in `launch()`.\n"
     ]
    },
    {
     "data": {
      "text/html": [
       "<div><iframe src=\"http://127.0.0.1:7860/\" width=\"100%\" height=\"500\" allow=\"autoplay; camera; microphone; clipboard-read; clipboard-write;\" frameborder=\"0\" allowfullscreen></iframe></div>"
      ],
      "text/plain": [
       "<IPython.core.display.HTML object>"
      ]
     },
     "metadata": {},
     "output_type": "display_data"
    },
    {
     "data": {
      "text/plain": []
     },
     "execution_count": 6,
     "metadata": {},
     "output_type": "execute_result"
    }
   ],
   "source": [
    "interface.launch()"
   ]
  },
  {
   "cell_type": "code",
   "execution_count": null,
   "id": "5d78e654-6e73-4b6b-832f-55859408dfc7",
   "metadata": {},
   "outputs": [],
   "source": []
  }
 ],
 "metadata": {
  "kernelspec": {
   "display_name": "Python 3 (ipykernel)",
   "language": "python",
   "name": "python3"
  },
  "language_info": {
   "codemirror_mode": {
    "name": "ipython",
    "version": 3
   },
   "file_extension": ".py",
   "mimetype": "text/x-python",
   "name": "python",
   "nbconvert_exporter": "python",
   "pygments_lexer": "ipython3",
   "version": "3.11.0"
  }
 },
 "nbformat": 4,
 "nbformat_minor": 5
}
